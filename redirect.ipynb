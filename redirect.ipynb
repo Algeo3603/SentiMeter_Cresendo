{
 "cells": [
  {
   "cell_type": "code",
   "execution_count": 5,
   "metadata": {},
   "outputs": [],
   "source": [
    "import requests\n",
    "from bs4 import BeautifulSoup\n",
    "import time"
   ]
  },
  {
   "cell_type": "code",
   "execution_count": 6,
   "metadata": {},
   "outputs": [],
   "source": [
    "base_link = \"https://www.amazon.in/Colgate-Gentle-Enamel-Ultra-Toothbrush/dp/B08G5GPXHR/ref=sr_1_7_mod_primary_new?crid=6B854ZBXJ8D2&dib=eyJ2IjoiMSJ9._E22AlTRFznBb_xtw6hmR5LcyJqwq8h5b69VBWpTySLsgQI_f0f3RnHFhlFn6itjwkkhiEei0yJn2tGwCR_JbP2v8wWsG7NLctfw0LDU0RRkM5shq0CTTL8tlvxNulKt1x_SKVYtmjlCTxRX4Ju8kIAHXVY3acXNcdNeYn_3HshBuee62qmMgriYQW4yVLzuXyEShPed_gdh3AFus7l--et7oH4lLYHUAQrKAZaC3R-3oQwzTlJ88LVwAv0LG5eWQy5hczGmJoXq7GQXC7KgNok2v_PskzEBknVEN-9CbQs.hOQllPsQxzy0ug2shgPk4CHsOIxLIMEWHP0v5QYy5LQ&dib_tag=se&keywords=toothbrush&qid=1708438370&sbo=RZvfv%2F%2FHxDF%2BO5021pAnSA%3D%3D&sprefix=tooth%2Caps%2C201&sr=8-7&th=1\""
   ]
  },
  {
   "cell_type": "code",
   "execution_count": 12,
   "metadata": {},
   "outputs": [],
   "source": [
    "def connect_link(link):\n",
    "    response = requests.get(link)\n",
    "    while response.status_code != 200:\n",
    "        time.sleep(5)\n",
    "        response = requests.get(link)\n",
    "    html_data = response.text\n",
    "    return BeautifulSoup(html_data, \"html.parser\")"
   ]
  },
  {
   "cell_type": "code",
   "execution_count": 13,
   "metadata": {},
   "outputs": [],
   "source": [
    "soup_base = connect_link(base_link)"
   ]
  },
  {
   "cell_type": "code",
   "execution_count": 14,
   "metadata": {},
   "outputs": [
    {
     "name": "stdout",
     "output_type": "stream",
     "text": [
      "https://www.amazon.in//Colgate-Gentle-Enamel-Ultra-Toothbrush/product-reviews/B08G5GPXHR?reviewerType=all_reviews\n"
     ]
    }
   ],
   "source": [
    "redirect_all_reviews = soup_base.find(\"a\", {\"data-hook\": \"see-all-reviews-link-foot\"})['href']\n",
    "# print(element)\n",
    "all_review_link = f\"https://www.amazon.in/{redirect_all_reviews}\"\n",
    "print(all_review_link)"
   ]
  },
  {
   "cell_type": "code",
   "execution_count": 15,
   "metadata": {},
   "outputs": [],
   "source": [
    "soup_all_reviews = connect_link(all_review_link)"
   ]
  },
  {
   "cell_type": "code",
   "execution_count": null,
   "metadata": {},
   "outputs": [],
   "source": []
  }
 ],
 "metadata": {
  "kernelspec": {
   "display_name": "Python 3",
   "language": "python",
   "name": "python3"
  },
  "language_info": {
   "codemirror_mode": {
    "name": "ipython",
    "version": 3
   },
   "file_extension": ".py",
   "mimetype": "text/x-python",
   "name": "python",
   "nbconvert_exporter": "python",
   "pygments_lexer": "ipython3",
   "version": "3.11.6"
  }
 },
 "nbformat": 4,
 "nbformat_minor": 2
}
